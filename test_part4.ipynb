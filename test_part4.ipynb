{
  "nbformat": 4,
  "nbformat_minor": 0,
  "metadata": {
    "colab": {
      "provenance": []
    },
    "kernelspec": {
      "name": "python3",
      "display_name": "Python 3"
    },
    "language_info": {
      "name": "python"
    }
  },
  "cells": [
    {
      "cell_type": "code",
      "execution_count": null,
      "metadata": {
        "id": "pVYr8Dt_LAPu"
      },
      "outputs": [],
      "source": [
        "import numpy as np\n",
        "import math\n",
        "import pandas as pd"
      ]
    },
    {
      "cell_type": "markdown",
      "source": [
        "# Part 1. Reading data"
      ],
      "metadata": {
        "id": "3lpCY2n0VrWe"
      }
    },
    {
      "cell_type": "code",
      "source": [
        "train_filename = 'training_set.tsv'\n",
        "test_filename = 'benchmark_set.tsv'"
      ],
      "metadata": {
        "id": "HMX09slOO1Gs"
      },
      "execution_count": null,
      "outputs": []
    },
    {
      "cell_type": "code",
      "source": [
        "train_df = pd.read_csv(train_filename, sep='\\t')\n",
        "test_df = pd.read_csv(test_filename, sep='\\t')\n",
        "train_df.head()"
      ],
      "metadata": {
        "id": "xzQ5L1jhLFtY",
        "colab": {
          "base_uri": "https://localhost:8080/",
          "height": 530
        },
        "outputId": "3c2125c7-d261-4c6f-ca4a-d4310e7a0c80"
      },
      "execution_count": null,
      "outputs": [
        {
          "output_type": "execute_result",
          "data": {
            "text/plain": [
              "  UniProtKB accession                                               Taxa  \\\n",
              "0              P61916                               Homo sapiens (Human)   \n",
              "1              Q7M3V1   Chelonus sp. nr. curvimaculatus (Parasitic wasp)   \n",
              "2              Q08738                            Bombyx mori (Silk moth)   \n",
              "3              Q41350  Solanum lycopersicum (Tomato) (Lycopersicon es...   \n",
              "4              Q86SE1  Androctonus amoreuxi (African fattail scorpion...   \n",
              "\n",
              "   Kingdom Class  Cross-validation fold  \\\n",
              "0  Metazoa    SP                      0   \n",
              "1  Metazoa    SP                      0   \n",
              "2  Metazoa    SP                      0   \n",
              "3   Plants    SP                      0   \n",
              "4  Metazoa    SP                      0   \n",
              "\n",
              "             Sequence (first 50 N-terminal residues)  \\\n",
              "0  MRFLAATFLLLALSTAAQAEPVQFKDCGSVDGVIKEVNVSPCPTQP...   \n",
              "1  MAGKEVIFIMALFIAVESSPIFSFDDLVCPSVTSLRVNVEKNECST...   \n",
              "2  MRVFLAICLSLTVALAAETGKYTPFQYNRVYSTVSPFVYKPGRYVA...   \n",
              "3  MASSSAKILLPLSLLFTLLSLSQSTNPNFILTLVNNCPYTIWPAIQ...   \n",
              "4  MNYLVMISLALLLMIGVESVRDGYIVYPHNCVYHCIPSCDGLCKEN...   \n",
              "\n",
              "                         SP cleavage-site annotation  \n",
              "0  SSSSSSSSSSSSSSSSSSSNNNNNNNNNNNNNNNNNNNNNNNNNNN...  \n",
              "1  SSSSSSSSSSSSSSSSSSSSNNNNNNNNNNNNNNNNNNNNNNNNNN...  \n",
              "2  SSSSSSSSSSSSSSSSNNNNNNNNNNNNNNNNNNNNNNNNNNNNNN...  \n",
              "3  SSSSSSSSSSSSSSSSSSSSSSSSNNNNNNNNNNNNNNNNNNNNNN...  \n",
              "4  SSSSSSSSSSSSSSSSSSSNNNNNNNNNNNNNNNNNNNNNNNNNNN...  "
            ],
            "text/html": [
              "\n",
              "  <div id=\"df-8f3f7d2c-b517-4395-8db2-d2dfe4f8fe9a\">\n",
              "    <div class=\"colab-df-container\">\n",
              "      <div>\n",
              "<style scoped>\n",
              "    .dataframe tbody tr th:only-of-type {\n",
              "        vertical-align: middle;\n",
              "    }\n",
              "\n",
              "    .dataframe tbody tr th {\n",
              "        vertical-align: top;\n",
              "    }\n",
              "\n",
              "    .dataframe thead th {\n",
              "        text-align: right;\n",
              "    }\n",
              "</style>\n",
              "<table border=\"1\" class=\"dataframe\">\n",
              "  <thead>\n",
              "    <tr style=\"text-align: right;\">\n",
              "      <th></th>\n",
              "      <th>UniProtKB accession</th>\n",
              "      <th>Taxa</th>\n",
              "      <th>Kingdom</th>\n",
              "      <th>Class</th>\n",
              "      <th>Cross-validation fold</th>\n",
              "      <th>Sequence (first 50 N-terminal residues)</th>\n",
              "      <th>SP cleavage-site annotation</th>\n",
              "    </tr>\n",
              "  </thead>\n",
              "  <tbody>\n",
              "    <tr>\n",
              "      <th>0</th>\n",
              "      <td>P61916</td>\n",
              "      <td>Homo sapiens (Human)</td>\n",
              "      <td>Metazoa</td>\n",
              "      <td>SP</td>\n",
              "      <td>0</td>\n",
              "      <td>MRFLAATFLLLALSTAAQAEPVQFKDCGSVDGVIKEVNVSPCPTQP...</td>\n",
              "      <td>SSSSSSSSSSSSSSSSSSSNNNNNNNNNNNNNNNNNNNNNNNNNNN...</td>\n",
              "    </tr>\n",
              "    <tr>\n",
              "      <th>1</th>\n",
              "      <td>Q7M3V1</td>\n",
              "      <td>Chelonus sp. nr. curvimaculatus (Parasitic wasp)</td>\n",
              "      <td>Metazoa</td>\n",
              "      <td>SP</td>\n",
              "      <td>0</td>\n",
              "      <td>MAGKEVIFIMALFIAVESSPIFSFDDLVCPSVTSLRVNVEKNECST...</td>\n",
              "      <td>SSSSSSSSSSSSSSSSSSSSNNNNNNNNNNNNNNNNNNNNNNNNNN...</td>\n",
              "    </tr>\n",
              "    <tr>\n",
              "      <th>2</th>\n",
              "      <td>Q08738</td>\n",
              "      <td>Bombyx mori (Silk moth)</td>\n",
              "      <td>Metazoa</td>\n",
              "      <td>SP</td>\n",
              "      <td>0</td>\n",
              "      <td>MRVFLAICLSLTVALAAETGKYTPFQYNRVYSTVSPFVYKPGRYVA...</td>\n",
              "      <td>SSSSSSSSSSSSSSSSNNNNNNNNNNNNNNNNNNNNNNNNNNNNNN...</td>\n",
              "    </tr>\n",
              "    <tr>\n",
              "      <th>3</th>\n",
              "      <td>Q41350</td>\n",
              "      <td>Solanum lycopersicum (Tomato) (Lycopersicon es...</td>\n",
              "      <td>Plants</td>\n",
              "      <td>SP</td>\n",
              "      <td>0</td>\n",
              "      <td>MASSSAKILLPLSLLFTLLSLSQSTNPNFILTLVNNCPYTIWPAIQ...</td>\n",
              "      <td>SSSSSSSSSSSSSSSSSSSSSSSSNNNNNNNNNNNNNNNNNNNNNN...</td>\n",
              "    </tr>\n",
              "    <tr>\n",
              "      <th>4</th>\n",
              "      <td>Q86SE1</td>\n",
              "      <td>Androctonus amoreuxi (African fattail scorpion...</td>\n",
              "      <td>Metazoa</td>\n",
              "      <td>SP</td>\n",
              "      <td>0</td>\n",
              "      <td>MNYLVMISLALLLMIGVESVRDGYIVYPHNCVYHCIPSCDGLCKEN...</td>\n",
              "      <td>SSSSSSSSSSSSSSSSSSSNNNNNNNNNNNNNNNNNNNNNNNNNNN...</td>\n",
              "    </tr>\n",
              "  </tbody>\n",
              "</table>\n",
              "</div>\n",
              "      <button class=\"colab-df-convert\" onclick=\"convertToInteractive('df-8f3f7d2c-b517-4395-8db2-d2dfe4f8fe9a')\"\n",
              "              title=\"Convert this dataframe to an interactive table.\"\n",
              "              style=\"display:none;\">\n",
              "        \n",
              "  <svg xmlns=\"http://www.w3.org/2000/svg\" height=\"24px\"viewBox=\"0 0 24 24\"\n",
              "       width=\"24px\">\n",
              "    <path d=\"M0 0h24v24H0V0z\" fill=\"none\"/>\n",
              "    <path d=\"M18.56 5.44l.94 2.06.94-2.06 2.06-.94-2.06-.94-.94-2.06-.94 2.06-2.06.94zm-11 1L8.5 8.5l.94-2.06 2.06-.94-2.06-.94L8.5 2.5l-.94 2.06-2.06.94zm10 10l.94 2.06.94-2.06 2.06-.94-2.06-.94-.94-2.06-.94 2.06-2.06.94z\"/><path d=\"M17.41 7.96l-1.37-1.37c-.4-.4-.92-.59-1.43-.59-.52 0-1.04.2-1.43.59L10.3 9.45l-7.72 7.72c-.78.78-.78 2.05 0 2.83L4 21.41c.39.39.9.59 1.41.59.51 0 1.02-.2 1.41-.59l7.78-7.78 2.81-2.81c.8-.78.8-2.07 0-2.86zM5.41 20L4 18.59l7.72-7.72 1.47 1.35L5.41 20z\"/>\n",
              "  </svg>\n",
              "      </button>\n",
              "      \n",
              "  <style>\n",
              "    .colab-df-container {\n",
              "      display:flex;\n",
              "      flex-wrap:wrap;\n",
              "      gap: 12px;\n",
              "    }\n",
              "\n",
              "    .colab-df-convert {\n",
              "      background-color: #E8F0FE;\n",
              "      border: none;\n",
              "      border-radius: 50%;\n",
              "      cursor: pointer;\n",
              "      display: none;\n",
              "      fill: #1967D2;\n",
              "      height: 32px;\n",
              "      padding: 0 0 0 0;\n",
              "      width: 32px;\n",
              "    }\n",
              "\n",
              "    .colab-df-convert:hover {\n",
              "      background-color: #E2EBFA;\n",
              "      box-shadow: 0px 1px 2px rgba(60, 64, 67, 0.3), 0px 1px 3px 1px rgba(60, 64, 67, 0.15);\n",
              "      fill: #174EA6;\n",
              "    }\n",
              "\n",
              "    [theme=dark] .colab-df-convert {\n",
              "      background-color: #3B4455;\n",
              "      fill: #D2E3FC;\n",
              "    }\n",
              "\n",
              "    [theme=dark] .colab-df-convert:hover {\n",
              "      background-color: #434B5C;\n",
              "      box-shadow: 0px 1px 3px 1px rgba(0, 0, 0, 0.15);\n",
              "      filter: drop-shadow(0px 1px 2px rgba(0, 0, 0, 0.3));\n",
              "      fill: #FFFFFF;\n",
              "    }\n",
              "  </style>\n",
              "\n",
              "      <script>\n",
              "        const buttonEl =\n",
              "          document.querySelector('#df-8f3f7d2c-b517-4395-8db2-d2dfe4f8fe9a button.colab-df-convert');\n",
              "        buttonEl.style.display =\n",
              "          google.colab.kernel.accessAllowed ? 'block' : 'none';\n",
              "\n",
              "        async function convertToInteractive(key) {\n",
              "          const element = document.querySelector('#df-8f3f7d2c-b517-4395-8db2-d2dfe4f8fe9a');\n",
              "          const dataTable =\n",
              "            await google.colab.kernel.invokeFunction('convertToInteractive',\n",
              "                                                     [key], {});\n",
              "          if (!dataTable) return;\n",
              "\n",
              "          const docLinkHtml = 'Like what you see? Visit the ' +\n",
              "            '<a target=\"_blank\" href=https://colab.research.google.com/notebooks/data_table.ipynb>data table notebook</a>'\n",
              "            + ' to learn more about interactive tables.';\n",
              "          element.innerHTML = '';\n",
              "          dataTable['output_type'] = 'display_data';\n",
              "          await google.colab.output.renderOutput(dataTable, element);\n",
              "          const docLink = document.createElement('div');\n",
              "          docLink.innerHTML = docLinkHtml;\n",
              "          element.appendChild(docLink);\n",
              "        }\n",
              "      </script>\n",
              "    </div>\n",
              "  </div>\n",
              "  "
            ]
          },
          "metadata": {},
          "execution_count": 5
        }
      ]
    },
    {
      "cell_type": "code",
      "source": [
        "train_df.info()"
      ],
      "metadata": {
        "colab": {
          "base_uri": "https://localhost:8080/"
        },
        "id": "cqzpoDyYO6gI",
        "outputId": "2d1ce239-4b83-47ec-d1e9-87f553a7a45a"
      },
      "execution_count": null,
      "outputs": [
        {
          "output_type": "stream",
          "name": "stdout",
          "text": [
            "<class 'pandas.core.frame.DataFrame'>\n",
            "RangeIndex: 1723 entries, 0 to 1722\n",
            "Data columns (total 7 columns):\n",
            " #   Column                                   Non-Null Count  Dtype \n",
            "---  ------                                   --------------  ----- \n",
            " 0   UniProtKB accession                      1723 non-null   object\n",
            " 1   Taxa                                     1723 non-null   object\n",
            " 2   Kingdom                                  1723 non-null   object\n",
            " 3   Class                                    1723 non-null   object\n",
            " 4   Cross-validation fold                    1723 non-null   int64 \n",
            " 5   Sequence (first 50 N-terminal residues)  1723 non-null   object\n",
            " 6   SP cleavage-site annotation              1723 non-null   object\n",
            "dtypes: int64(1), object(6)\n",
            "memory usage: 94.4+ KB\n"
          ]
        }
      ]
    },
    {
      "cell_type": "code",
      "source": [
        "train_df['Cross-validation fold'].unique()"
      ],
      "metadata": {
        "colab": {
          "base_uri": "https://localhost:8080/"
        },
        "id": "j7H51OJSWOxZ",
        "outputId": "ad3c0abd-851f-463d-c97f-5acddad9ae25"
      },
      "execution_count": null,
      "outputs": [
        {
          "output_type": "execute_result",
          "data": {
            "text/plain": [
              "array([0, 1, 2, 3, 4])"
            ]
          },
          "metadata": {},
          "execution_count": 7
        }
      ]
    },
    {
      "cell_type": "code",
      "source": [
        "train_df['Class'].unique()"
      ],
      "metadata": {
        "colab": {
          "base_uri": "https://localhost:8080/"
        },
        "id": "-E4sBJTdbOsd",
        "outputId": "a2ba7d67-ab12-4a8f-a6da-7838e7926285"
      },
      "execution_count": null,
      "outputs": [
        {
          "output_type": "execute_result",
          "data": {
            "text/plain": [
              "array(['SP', 'NO_SP'], dtype=object)"
            ]
          },
          "metadata": {},
          "execution_count": 8
        }
      ]
    },
    {
      "cell_type": "markdown",
      "source": [
        "# Part 2. VonHeijne method"
      ],
      "metadata": {
        "id": "z10fTEc6V3ju"
      }
    },
    {
      "cell_type": "code",
      "source": [
        "a = 'a' * 16\n",
        "len(a[1:15])"
      ],
      "metadata": {
        "colab": {
          "base_uri": "https://localhost:8080/"
        },
        "id": "eN1bRn_us7Vo",
        "outputId": "84827349-e090-4b9c-bdf7-88f9c7a3c9c4"
      },
      "execution_count": null,
      "outputs": [
        {
          "output_type": "execute_result",
          "data": {
            "text/plain": [
              "14"
            ]
          },
          "metadata": {},
          "execution_count": 9
        }
      ]
    },
    {
      "cell_type": "code",
      "source": [
        "def build_pspm(df):\n",
        "  aminos = ['S', 'P', 'V', 'T', 'C', 'Y', 'A', 'D', 'K', 'E', 'W', 'I', 'Q', 'R', 'G', 'M', 'N', 'F', 'L', 'H']\n",
        "  pspm = [{amino:1 for amino in aminos} for x in range(15)]\n",
        "  for i, row in df.iterrows():\n",
        "    index = row['SP cleavage-site annotation'].find('N')\n",
        "    clevage_site = row['Sequence (first 50 N-terminal residues)'][index-13:index+2]\n",
        "    for j in range(15):\n",
        "      pspm[j][clevage_site[j]] += 1\n",
        "  return pspm"
      ],
      "metadata": {
        "id": "SeH0AbaIblc3"
      },
      "execution_count": null,
      "outputs": []
    },
    {
      "cell_type": "code",
      "source": [
        "def build_pswm(pspm, n):\n",
        "  aminos = ['S', 'P', 'V', 'T', 'C', 'Y', 'A', 'D', 'K', 'E', 'W', 'I', 'Q', 'R', 'G', 'M', 'N', 'F', 'L', 'H']\n",
        "  aminos_freq_swiss = {'S': 0.0664, 'P': 0.0474, 'V': 0.0686, 'T': 0.0535, 'C':0.0138, 'Y':0.0292, 'A':0.0825, 'D':0.0546,\n",
        "                       'K': 0.0580, 'E': 0.0672, 'W': 0.0110, 'I': 0.0591, 'Q': 0.0393, 'R': 0.0553, 'G': 0.0707, 'M':0.0241,\n",
        "                       'N': 0.0406, 'F': 0.0386, 'L': 0.0965, 'H': 0.0227}\n",
        "  pswm = [{amino:1 for amino in aminos} for x in range(15)]\n",
        "  for i in range(len(pspm)):\n",
        "    for amino in aminos:\n",
        "      pswm[i][amino] = np.log2((pspm[i][amino] / n) / aminos_freq_swiss[amino])\n",
        "  return pswm"
      ],
      "metadata": {
        "id": "9-mOk2oEkhvX"
      },
      "execution_count": null,
      "outputs": []
    },
    {
      "cell_type": "code",
      "source": [
        "def predict_score(s, pswm):\n",
        "  max_w = -999999\n",
        "  for i in range(15, len(s)):\n",
        "    w = 0\n",
        "    for j in range(i-15, i):\n",
        "      w += pswm[j-i+15][s[j]]\n",
        "    max_w = max(max_w, w)\n",
        "  return max_w\n"
      ],
      "metadata": {
        "id": "wAirmYRGsfNG"
      },
      "execution_count": null,
      "outputs": []
    },
    {
      "cell_type": "code",
      "source": [
        "from sklearn.metrics import precision_recall_curve, f1_score, accuracy_score, matthews_corrcoef, classification_report\n"
      ],
      "metadata": {
        "id": "Aejr5sp5vrI6"
      },
      "execution_count": null,
      "outputs": []
    },
    {
      "cell_type": "code",
      "source": [
        "def calculate_all_metrics(y_true, y_pred):\n",
        "  report = classification_report(y_true, y_pred)\n",
        "  print(report)\n",
        "  precision, recall, tresholds = precision_recall_curve(y_true, y_pred)\n",
        "  f_score = f1_score(y_true, y_pred)\n",
        "  accuracy = accuracy_score(y_true, y_pred, normalize = True)\n",
        "  mcc = matthews_corrcoef(y_true, y_pred)\n",
        "  print(' MCC: {mcc}, Accuracy: {accuracy}, F1: {f_score}'.\n",
        "        format(f_score=f_score,\n",
        "              #  precision=precision,\n",
        "              #  recall=recall,\n",
        "               accuracy=accuracy,\n",
        "               mcc=mcc))"
      ],
      "metadata": {
        "id": "xPrhELy3MUsz"
      },
      "execution_count": null,
      "outputs": []
    },
    {
      "cell_type": "code",
      "source": [
        "optimal_tresholds = []\n",
        "for validation_fold_n in range(5):\n",
        "  # training p.1\n",
        "  trainig_fold_df = train_df.loc[train_df['Cross-validation fold'] != validation_fold_n]\n",
        "  trainig_fold_true_values_df = trainig_fold_df.loc[trainig_fold_df['Class'] == 'SP']\n",
        "  pspm = build_pspm(trainig_fold_true_values_df)\n",
        "  n = len(trainig_fold_true_values_df) + 20\n",
        "  pswm = build_pswm(pspm, n=n)\n",
        "  # training p.2 get treshold\n",
        "  y_true = trainig_fold_df['Class'].apply(lambda x: 1 if x == 'SP' else 0).values\n",
        "  y_pred = trainig_fold_df['Sequence (first 50 N-terminal residues)'].apply(predict_score, pswm=pswm).values\n",
        "  precision, recall, tresholds = precision_recall_curve(y_true, y_pred)\n",
        "  f_score = (2 * precision * recall) / (precision + recall)\n",
        "  index = np.argmax(f_score)\n",
        "  optimal_treshold = tresholds[index]\n",
        "  optimal_tresholds.append(optimal_treshold)\n",
        "  # prediction\n",
        "  validation_fold_df = train_df.loc[train_df['Cross-validation fold'] == validation_fold_n]\n",
        "  y_test_true = validation_fold_df['Class'].apply(lambda x: 1 if x == 'SP' else 0).values\n",
        "  y_test_pred = validation_fold_df['Sequence (first 50 N-terminal residues)'].apply(predict_score, pswm=pswm).values\n",
        "  y_test_pred = [int(y >= optimal_treshold) for y in y_test_pred]\n",
        "  # prediction p.2\n",
        "  print('Optimal treshold for CV {} is {}'.format(validation_fold_n, optimal_treshold))\n",
        "  calculate_all_metrics(y_test_true, y_test_pred)\n",
        "  print('---------------------------------------------------------------------')"
      ],
      "metadata": {
        "colab": {
          "base_uri": "https://localhost:8080/"
        },
        "id": "qiJNZASeUwHU",
        "outputId": "422d563b-7b67-42de-a0fd-50eddd34e1d7"
      },
      "execution_count": null,
      "outputs": [
        {
          "output_type": "stream",
          "name": "stdout",
          "text": [
            "Optimal treshold for CV 0 is 7.928636845904684\n",
            "              precision    recall  f1-score   support\n",
            "\n",
            "           0       0.96      0.98      0.97       293\n",
            "           1       0.89      0.79      0.84        52\n",
            "\n",
            "    accuracy                           0.95       345\n",
            "   macro avg       0.93      0.89      0.90       345\n",
            "weighted avg       0.95      0.95      0.95       345\n",
            "\n",
            " MCC: 0.8118929011894348, Accuracy: 0.9536231884057971, F1: 0.836734693877551\n",
            "---------------------------------------------------------------------\n",
            "Optimal treshold for CV 1 is 7.872691034391308\n",
            "              precision    recall  f1-score   support\n",
            "\n",
            "           0       0.97      0.95      0.96       293\n",
            "           1       0.75      0.83      0.79        52\n",
            "\n",
            "    accuracy                           0.93       345\n",
            "   macro avg       0.86      0.89      0.87       345\n",
            "weighted avg       0.94      0.93      0.93       345\n",
            "\n",
            " MCC: 0.750616576846467, Accuracy: 0.9333333333333333, F1: 0.7889908256880734\n",
            "---------------------------------------------------------------------\n",
            "Optimal treshold for CV 2 is 8.613450447288047\n",
            "              precision    recall  f1-score   support\n",
            "\n",
            "           0       0.95      0.99      0.97       293\n",
            "           1       0.93      0.73      0.82        52\n",
            "\n",
            "    accuracy                           0.95       345\n",
            "   macro avg       0.94      0.86      0.89       345\n",
            "weighted avg       0.95      0.95      0.95       345\n",
            "\n",
            " MCC: 0.7966343417598895, Accuracy: 0.9507246376811594, F1: 0.8172043010752689\n",
            "---------------------------------------------------------------------\n",
            "Optimal treshold for CV 3 is 8.036043905328242\n",
            "              precision    recall  f1-score   support\n",
            "\n",
            "           0       0.97      0.96      0.96       293\n",
            "           1       0.79      0.81      0.80        52\n",
            "\n",
            "    accuracy                           0.94       345\n",
            "   macro avg       0.88      0.89      0.88       345\n",
            "weighted avg       0.94      0.94      0.94       345\n",
            "\n",
            " MCC: 0.7641546168436856, Accuracy: 0.9391304347826087, F1: 0.7999999999999999\n",
            "---------------------------------------------------------------------\n",
            "Optimal treshold for CV 4 is 8.578501281464947\n",
            "              precision    recall  f1-score   support\n",
            "\n",
            "           0       0.97      0.98      0.97       293\n",
            "           1       0.85      0.80      0.82        50\n",
            "\n",
            "    accuracy                           0.95       343\n",
            "   macro avg       0.91      0.89      0.90       343\n",
            "weighted avg       0.95      0.95      0.95       343\n",
            "\n",
            " MCC: 0.7964286377026183, Accuracy: 0.9504373177842566, F1: 0.8247422680412372\n",
            "---------------------------------------------------------------------\n"
          ]
        }
      ]
    },
    {
      "cell_type": "code",
      "source": [
        "optimal_treshold = np.mean(optimal_tresholds)\n",
        "optimal_treshold"
      ],
      "metadata": {
        "colab": {
          "base_uri": "https://localhost:8080/"
        },
        "id": "-DtyMFwma2AD",
        "outputId": "9551313c-9489-413d-e965-d251cc3bfc37"
      },
      "execution_count": null,
      "outputs": [
        {
          "output_type": "execute_result",
          "data": {
            "text/plain": [
              "8.205864702875445"
            ]
          },
          "metadata": {},
          "execution_count": 16
        }
      ]
    },
    {
      "cell_type": "code",
      "source": [],
      "metadata": {
        "id": "ooNcezUK6V4S"
      },
      "execution_count": null,
      "outputs": []
    },
    {
      "cell_type": "markdown",
      "source": [
        "# 3. Method testing"
      ],
      "metadata": {
        "id": "63FjBA5nS7xs"
      }
    },
    {
      "cell_type": "code",
      "source": [
        "test_fold_true_values_df = test_df.loc[test_df['Class'] == 'SP']\n",
        "pspm = build_pspm(test_fold_true_values_df)\n",
        "n = len(test_fold_true_values_df) + 20\n",
        "pswm = build_pswm(pspm, n=n)"
      ],
      "metadata": {
        "id": "sZsjnCFKS5bm"
      },
      "execution_count": null,
      "outputs": []
    },
    {
      "cell_type": "code",
      "source": [
        "# prediction\n",
        "y_test_true = test_df['Class'].apply(lambda x: 1 if x == 'SP' else 0).values\n",
        "y_test_pred = test_df['Sequence (first 50 N-terminal residues)'].apply(predict_score, pswm=pswm).values\n",
        "y_test_pred = [int(y >= optimal_treshold) for y in y_test_pred]"
      ],
      "metadata": {
        "id": "QB5mU_xATR1P"
      },
      "execution_count": null,
      "outputs": []
    },
    {
      "cell_type": "code",
      "source": [
        "print('Optimal treshold for benchmark dataset is {}'.format(optimal_treshold))\n",
        "calculate_all_metrics(y_test_true, y_test_pred)\n",
        "print('---------------------------------------------------------------------')\n"
      ],
      "metadata": {
        "colab": {
          "base_uri": "https://localhost:8080/"
        },
        "id": "4iUVtLD9ThC8",
        "outputId": "56f1587e-9491-4293-b628-ec4ced5b4c89"
      },
      "execution_count": null,
      "outputs": [
        {
          "output_type": "stream",
          "name": "stdout",
          "text": [
            "Optimal treshold for benchmark dataset is 8.205864702875445\n",
            "              precision    recall  f1-score   support\n",
            "\n",
            "           0       0.99      0.97      0.98      7247\n",
            "           1       0.48      0.82      0.61       209\n",
            "\n",
            "    accuracy                           0.97      7456\n",
            "   macro avg       0.74      0.90      0.80      7456\n",
            "weighted avg       0.98      0.97      0.97      7456\n",
            "\n",
            " MCC: 0.6163883591639759, Accuracy: 0.9704935622317596, F1: 0.6085409252669038\n",
            "---------------------------------------------------------------------\n"
          ]
        }
      ]
    },
    {
      "cell_type": "code",
      "source": [
        "from sklearn import datasets\n",
        "import pandas as pd\n",
        "from sklearn.linear_model import LogisticRegression\n",
        "from sklearn.model_selection import train_test_split\n",
        "from sklearn.metrics import precision_recall_curve\n",
        "from sklearn.metrics import plot_precision_recall_curve\n",
        "from sklearn.metrics import precision_score\n",
        "from sklearn.metrics import recall_score\n",
        "from sklearn.metrics import matthews_corrcoef\n",
        "import matplotlib.pyplot as plt\n",
        "precision = precision_score(y_test_true, y_test_pred)\n",
        "recall = recall_score(y_test_true, y_test_pred)\n",
        "mcc=matthews_corrcoef(y_test_true, y_test_pred)\n",
        "acc=accuracy_score(y_test_true, y_test_pred)\n",
        "print('Precision:',precision)\n",
        "print('Recall:' ,recall)\n",
        "print('MCC:',mcc)\n",
        "print('ACC:',acc)"
      ],
      "metadata": {
        "id": "ZTv8ektXTrXs",
        "colab": {
          "base_uri": "https://localhost:8080/"
        },
        "outputId": "f8b7caf8-dfa6-4574-a2cb-b106b42eb79c"
      },
      "execution_count": null,
      "outputs": [
        {
          "output_type": "stream",
          "name": "stdout",
          "text": [
            "Precision: 0.48441926345609065\n",
            "Recall: 0.8181818181818182\n",
            "MCC: 0.6163883591639759\n",
            "ACC: 0.9704935622317596\n"
          ]
        }
      ]
    },
    {
      "cell_type": "code",
      "source": [
        "from sklearn.metrics import confusion_matrix\n",
        "conf_matrix = confusion_matrix(y_test_true, y_test_pred)\n",
        "print(conf_matrix)"
      ],
      "metadata": {
        "colab": {
          "base_uri": "https://localhost:8080/"
        },
        "id": "-1uAY0-qstYQ",
        "outputId": "1721d581-d5c7-47bc-b0fe-2f1023e8cff2"
      },
      "execution_count": null,
      "outputs": [
        {
          "output_type": "stream",
          "name": "stdout",
          "text": [
            "[[7065  182]\n",
            " [  38  171]]\n"
          ]
        }
      ]
    }
  ]
}